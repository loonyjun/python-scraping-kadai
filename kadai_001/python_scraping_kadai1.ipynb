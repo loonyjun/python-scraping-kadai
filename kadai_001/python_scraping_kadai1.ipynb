{
  "nbformat": 4,
  "nbformat_minor": 0,
  "metadata": {
    "colab": {
      "provenance": []
    },
    "kernelspec": {
      "name": "python3",
      "display_name": "Python 3"
    },
    "language_info": {
      "name": "python"
    }
  },
  "cells": [
    {
      "cell_type": "code",
      "execution_count": 5,
      "metadata": {
        "colab": {
          "base_uri": "https://localhost:8080/"
        },
        "id": "cMU5wfIvh6WB",
        "outputId": "76238a24-ccfc-4c26-8c24-9c2e7aa7d0c7"
      },
      "outputs": [
        {
          "output_type": "stream",
          "name": "stdout",
          "text": [
            "Requirement already satisfied: requests in /usr/local/lib/python3.10/dist-packages (2.31.0)\n",
            "Requirement already satisfied: beautifulsoup4 in /usr/local/lib/python3.10/dist-packages (4.12.3)\n",
            "Requirement already satisfied: charset-normalizer<4,>=2 in /usr/local/lib/python3.10/dist-packages (from requests) (3.3.2)\n",
            "Requirement already satisfied: idna<4,>=2.5 in /usr/local/lib/python3.10/dist-packages (from requests) (3.7)\n",
            "Requirement already satisfied: urllib3<3,>=1.21.1 in /usr/local/lib/python3.10/dist-packages (from requests) (2.0.7)\n",
            "Requirement already satisfied: certifi>=2017.4.17 in /usr/local/lib/python3.10/dist-packages (from requests) (2024.2.2)\n",
            "Requirement already satisfied: soupsieve>1.2 in /usr/local/lib/python3.10/dist-packages (from beautifulsoup4) (2.5)\n"
          ]
        }
      ],
      "source": [
        "!pip install requests beautifulsoup4"
      ]
    },
    {
      "cell_type": "code",
      "source": [
        "import requests\n",
        "from bs4 import BeautifulSoup\n",
        "\n",
        "#https://news.yahoo.co.jp/articles/f41f7b83cdd769ea5d498eab258f391ee4fd38c6"
      ],
      "metadata": {
        "id": "M3npTw_Sln5B"
      },
      "execution_count": 7,
      "outputs": []
    },
    {
      "cell_type": "code",
      "source": [
        "# タイトルを取得するURL\n",
        "url = 'https://news.yahoo.co.jp/articles/f41f7b83cdd769ea5d498eab258f391ee4fd38c6'\n",
        "print(url)\n",
        "\n",
        "# response格納\n",
        "response = requests.get(url)\n",
        "print(response.status_code)\n",
        "\n",
        "# 解析する\n",
        "soup = BeautifulSoup(response.text , 'html.parser')"
      ],
      "metadata": {
        "colab": {
          "base_uri": "https://localhost:8080/"
        },
        "id": "W0fkUgATmD__",
        "outputId": "66803624-4db0-4d1b-bb8b-a345ad667264"
      },
      "execution_count": 16,
      "outputs": [
        {
          "output_type": "stream",
          "name": "stdout",
          "text": [
            "https://news.yahoo.co.jp/articles/f41f7b83cdd769ea5d498eab258f391ee4fd38c6\n",
            "200\n"
          ]
        }
      ]
    },
    {
      "cell_type": "code",
      "source": [
        "# 記事のみを取得\n",
        "# CSSクラスタ活用\n",
        "\n",
        "article_body = soup.find('div', class_='article_body highLightSearchTarget')\n",
        "article_text = article_body.text\n",
        "print(article_text)"
      ],
      "metadata": {
        "colab": {
          "base_uri": "https://localhost:8080/"
        },
        "id": "CZ3ef7MNmQwP",
        "outputId": "3804a933-6de8-4750-90a4-b1af08522b91"
      },
      "execution_count": 19,
      "outputs": [
        {
          "output_type": "stream",
          "name": "stdout",
          "text": [
            "初の単独来日公演NewJeans（Instagramより）　韓国の5人組ガールズグループ・NewJeansが6月26、27日に東京ドームで初の単独来日公演を開催する。本公演の初日にはYOASOBI、2日目にはロンドンを拠点に活動するシンガーソングライターのリナ・サワヤマがゲスト出演。NewJeansの楽曲製作に参加しているプロデューサーの250（韓国語読みでイオゴン）がオープニングDJを務めるというから豪華だ。ただ、先日、メンバーのHYEIN（ヘイン）が足の負傷により当分の間、活動を休止すると発表。心配の声も上がっている。\n",
            "\n",
            "【写真】超ミニ丈ワンピに「可愛いーーー神」とファン感激…NewJeansが公開した集合ショット　NewJeansの来日公演はこれまでに22年10月のKCON2022JAPAN、11月のMAMA（Mnet Asian Music Awards）、12月のAAA（Asia Artist Awards）、昨年3月の第36回マイナビ東京ガールズコレクション、8月のサマーソニックがあったが、これらは他のアーティストも出演するジョイント公演だった。それがいきなり単独公演を東京ドームで開催すると発表したため音楽業界に強い衝撃が走った。\n",
            "\n",
            "　ライブ事業に詳しい音楽ライターがこう話す。\n",
            "\n",
            "「同じく韓国の4人組多国籍ガールズグループ・aespa（エスパ）も23年8月に東京ドーム2days公演を成功させましたが、その1年前に横浜でショーケースを開催して日本のファンの反応をリサーチしています。ふたをあけたら4万席をめぐって92万通の応募が殺到する人気ぶりで、当時から東京ドームは確実と言われていました。NewJeansは昨年8月にアメリカのシカゴで開催された全米3大野外ロックフェスに数えられるロラパルーザに出演して7万人を前にパフォーマンス。その後、来日して8月19日に千葉・幕張で開催された日本最大級のフェス・サマーソニックに出演して3万人を熱狂させました。いきなり東京ドームというのはアイドルグループでは前例がありませんが、国内の音楽業界人たちが気付かないところでNewJeansの人気が日本でも過熱していることがこれで証明されました」\n",
            "\n",
            "　サマーソニックと言えば、会場に“NewJeansおじさん”と呼ばれる中高年男性が大勢集まったことで話題となった。会場入りしていた大手芸能事務所社員がこう証言する。\n"
          ]
        }
      ]
    },
    {
      "cell_type": "code",
      "source": [],
      "metadata": {
        "id": "HxIwGCKXpbFF"
      },
      "execution_count": 18,
      "outputs": []
    }
  ]
}